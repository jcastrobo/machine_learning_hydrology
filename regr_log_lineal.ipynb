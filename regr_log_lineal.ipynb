{
 "cells": [
  {
   "cell_type": "code",
   "execution_count": 4,
   "metadata": {},
   "outputs": [],
   "source": [
    "import statsmodels.api as sm\n",
    "import pandas as pd"
   ]
  },
  {
   "cell_type": "code",
   "execution_count": 27,
   "metadata": {},
   "outputs": [
    {
     "data": {
      "text/html": [
       "<div>\n",
       "<style scoped>\n",
       "    .dataframe tbody tr th:only-of-type {\n",
       "        vertical-align: middle;\n",
       "    }\n",
       "\n",
       "    .dataframe tbody tr th {\n",
       "        vertical-align: top;\n",
       "    }\n",
       "\n",
       "    .dataframe thead th {\n",
       "        text-align: right;\n",
       "    }\n",
       "</style>\n",
       "<table border=\"1\" class=\"dataframe\">\n",
       "  <thead>\n",
       "    <tr style=\"text-align: right;\">\n",
       "      <th></th>\n",
       "      <th>Unnamed: 0</th>\n",
       "      <th>C_(mm_est</th>\n",
       "      <th>Lluvia_antecedent_48_horas_est</th>\n",
       "    </tr>\n",
       "  </thead>\n",
       "  <tbody>\n",
       "    <tr>\n",
       "      <th>0</th>\n",
       "      <td>0</td>\n",
       "      <td>2.538447</td>\n",
       "      <td>2.595255</td>\n",
       "    </tr>\n",
       "    <tr>\n",
       "      <th>1</th>\n",
       "      <td>1</td>\n",
       "      <td>2.694627</td>\n",
       "      <td>3.916015</td>\n",
       "    </tr>\n",
       "    <tr>\n",
       "      <th>2</th>\n",
       "      <td>2</td>\n",
       "      <td>3.850148</td>\n",
       "      <td>3.916015</td>\n",
       "    </tr>\n",
       "    <tr>\n",
       "      <th>3</th>\n",
       "      <td>3</td>\n",
       "      <td>2.517696</td>\n",
       "      <td>0.000000</td>\n",
       "    </tr>\n",
       "    <tr>\n",
       "      <th>4</th>\n",
       "      <td>4</td>\n",
       "      <td>1.609438</td>\n",
       "      <td>3.927896</td>\n",
       "    </tr>\n",
       "  </tbody>\n",
       "</table>\n",
       "</div>"
      ],
      "text/plain": [
       "   Unnamed: 0  C_(mm_est  Lluvia_antecedent_48_horas_est\n",
       "0           0   2.538447                        2.595255\n",
       "1           1   2.694627                        3.916015\n",
       "2           2   3.850148                        3.916015\n",
       "3           3   2.517696                        0.000000\n",
       "4           4   1.609438                        3.927896"
      ]
     },
     "execution_count": 27,
     "metadata": {},
     "output_type": "execute_result"
    }
   ],
   "source": [
    "logqmax2 = pd.read_excel('/home/erick_castro/Documentos/Inteligencia/logqmax.xlsx', sheet_name = \"Sheet1\")\n",
    "log_expl_var2 = pd.read_excel('/home/erick_castro/Documentos/Inteligencia/log_expl_var.xlsx', sheet_name = \"Sheet1\")\n",
    "log_expl_var2.head()"
   ]
  },
  {
   "cell_type": "code",
   "execution_count": 36,
   "metadata": {},
   "outputs": [],
   "source": [
    "log_expl_var2[\"Unnamed: 0\"]=logqmax2[\"Qmax\"]\n"
   ]
  },
  {
   "cell_type": "code",
   "execution_count": 42,
   "metadata": {},
   "outputs": [
    {
     "name": "stdout",
     "output_type": "stream",
     "text": [
      "                                 OLS Regression Results                                \n",
      "=======================================================================================\n",
      "Dep. Variable:                   Qmax   R-squared (uncentered):                   0.940\n",
      "Model:                            OLS   Adj. R-squared (uncentered):              0.939\n",
      "Method:                 Least Squares   F-statistic:                              3331.\n",
      "Date:                Mon, 14 Nov 2022   Prob (F-statistic):                   1.96e-132\n",
      "Time:                        20:20:32   Log-Likelihood:                         -249.54\n",
      "No. Observations:                 215   AIC:                                      501.1\n",
      "Df Residuals:                     214   BIC:                                      504.4\n",
      "Df Model:                           1                                                  \n",
      "Covariance Type:            nonrobust                                                  \n",
      "==============================================================================\n",
      "                 coef    std err          t      P>|t|      [0.025      0.975]\n",
      "------------------------------------------------------------------------------\n",
      "x1             0.5869      0.010     57.716      0.000       0.567       0.607\n",
      "==============================================================================\n",
      "Omnibus:                       23.335   Durbin-Watson:                   1.238\n",
      "Prob(Omnibus):                  0.000   Jarque-Bera (JB):               27.901\n",
      "Skew:                           0.787   Prob(JB):                     8.74e-07\n",
      "Kurtosis:                       3.798   Cond. No.                         1.00\n",
      "==============================================================================\n",
      "\n",
      "Notes:\n",
      "[1] R² is computed without centering (uncentered) since the model does not contain a constant.\n",
      "[2] Standard Errors assume that the covariance matrix of the errors is correctly specified.\n"
     ]
    }
   ],
   "source": [
    "results = sm.OLS(logqmax2['Qmax'], (log_expl_var2['C_(mm_est'] + log_expl_var2['Lluvia_antecedent_48_horas_est'])).fit()\n",
    "print(results.summary())"
   ]
  },
  {
   "cell_type": "code",
   "execution_count": 60,
   "metadata": {},
   "outputs": [],
   "source": [
    "X=log_expl_var2[['C_(mm_est', 'Lluvia_antecedent_48_horas_est']]\n",
    "y=logqmax2[\"Qmax\"]"
   ]
  },
  {
   "cell_type": "code",
   "execution_count": 59,
   "metadata": {},
   "outputs": [
    {
     "name": "stdout",
     "output_type": "stream",
     "text": [
      "                                 OLS Regression Results                                \n",
      "=======================================================================================\n",
      "Dep. Variable:                   Qmax   R-squared (uncentered):                   0.900\n",
      "Model:                            OLS   Adj. R-squared (uncentered):              0.899\n",
      "Method:                 Least Squares   F-statistic:                              1922.\n",
      "Date:                Mon, 14 Nov 2022   Prob (F-statistic):                   7.00e-109\n",
      "Time:                        20:41:27   Log-Likelihood:                         -304.00\n",
      "No. Observations:                 215   AIC:                                      610.0\n",
      "Df Residuals:                     214   BIC:                                      613.4\n",
      "Df Model:                           1                                                  \n",
      "Covariance Type:            nonrobust                                                  \n",
      "==================================================================================================\n",
      "                                     coef    std err          t      P>|t|      [0.025      0.975]\n",
      "--------------------------------------------------------------------------------------------------\n",
      "Lluvia_antecedent_48_horas_est     0.9636      0.022     43.841      0.000       0.920       1.007\n",
      "==============================================================================\n",
      "Omnibus:                       76.243   Durbin-Watson:                   1.536\n",
      "Prob(Omnibus):                  0.000   Jarque-Bera (JB):              259.179\n",
      "Skew:                           1.448   Prob(JB):                     5.25e-57\n",
      "Kurtosis:                       7.533   Cond. No.                         1.00\n",
      "==============================================================================\n",
      "\n",
      "Notes:\n",
      "[1] R² is computed without centering (uncentered) since the model does not contain a constant.\n",
      "[2] Standard Errors assume that the covariance matrix of the errors is correctly specified.\n"
     ]
    }
   ],
   "source": [
    "lm=sm.OLS(y, X).fit()\n",
    "print(lm.summary())"
   ]
  }
 ],
 "metadata": {
  "kernelspec": {
   "display_name": "Python 3.10.8 ('stats')",
   "language": "python",
   "name": "python3"
  },
  "language_info": {
   "codemirror_mode": {
    "name": "ipython",
    "version": 3
   },
   "file_extension": ".py",
   "mimetype": "text/x-python",
   "name": "python",
   "nbconvert_exporter": "python",
   "pygments_lexer": "ipython3",
   "version": "3.10.8"
  },
  "orig_nbformat": 4,
  "vscode": {
   "interpreter": {
    "hash": "1aabae7a7b943abc954ca63a2b0ab133ccea506f3cb8bccad1d8ccaa32a5af5c"
   }
  }
 },
 "nbformat": 4,
 "nbformat_minor": 2
}
