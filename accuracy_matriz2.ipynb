{
 "cells": [
  {
   "cell_type": "code",
   "execution_count": 1,
   "metadata": {},
   "outputs": [
    {
     "name": "stderr",
     "output_type": "stream",
     "text": [
      "/home/erick_castro/anaconda3/envs/inteligencia/lib/python3.10/site-packages/tqdm/auto.py:22: TqdmWarning: IProgress not found. Please update jupyter and ipywidgets. See https://ipywidgets.readthedocs.io/en/stable/user_install.html\n",
      "  from .autonotebook import tqdm as notebook_tqdm\n"
     ]
    }
   ],
   "source": [
    "import pandas as pd\n",
    "import numpy as np\n",
    "import sklearn as sk\n",
    "import openpyxl\n",
    "import statsmodels.graphics.api as smg\n",
    "import matplotlib.pyplot as plt \n",
    "import seaborn as sns\n",
    "import shap\n",
    "from sklearn.ensemble import RandomForestRegressor\n",
    "from pandas.plotting import scatter_matrix\n",
    "from sklearn.feature_selection import VarianceThreshold\n",
    "from sklearn.feature_selection import SelectKBest\n",
    "from sklearn.feature_selection import mutual_info_regression\n",
    "from sklearn.model_selection import cross_val_score\n",
    "from sklearn.model_selection import KFold\n",
    "from sklearn.model_selection import train_test_split\n",
    "from sklearn.utils import class_weight\n",
    "from sklearn.linear_model import LinearRegression\n",
    "from sklearn.model_selection import cross_validate\n",
    "from sklearn.linear_model import Ridge\n",
    "from sklearn.model_selection import ShuffleSplit"
   ]
  },
  {
   "cell_type": "code",
   "execution_count": 2,
   "metadata": {},
   "outputs": [],
   "source": [
    "datos = pd.read_excel('/home/erick_castro/Documentos/Inteligencia/Datos.xlsx', sheet_name = \"Hoja1\")\n",
    "datos = pd.DataFrame(datos)\n",
    "datos = datos.dropna(axis = 0, how =\"any\")\n",
    "x_expl_2opcion=datos.drop(['C1', 'Duración_(min)_pl', 'Intensidad_media pl',\n",
    "       'Intensidad_máxima_pl', 'Intensidad_continuap_pl',\n",
    "       'Duración_(min)_esta', 'Intensidad_media_est', 'Intensidad_máxima_est',\n",
    "       'Intensidad_continua_est', 'Lluvia antecedent_24 horas_pluv',\n",
    "       'Lluvia antecedent_24_horas_esta', 'Lluvia antecedent_48_horas_pluv', 'Trespuesta_(min)_plub',\n",
    "       'Trespuesta_est', 'Evento', 'Hs_5cm', 'Hs_40_cm', 'Hs_60', 'Hs_80', 'Hs_100', 'Qmax'],axis=1)\n",
    "Qmax=datos[['Qmax']]"
   ]
  },
  {
   "cell_type": "code",
   "execution_count": 5,
   "metadata": {},
   "outputs": [],
   "source": [
    "kfold = KFold(n_splits=10)\n",
    "model = RandomForestRegressor()"
   ]
  },
  {
   "cell_type": "code",
   "execution_count": 7,
   "metadata": {},
   "outputs": [
    {
     "name": "stderr",
     "output_type": "stream",
     "text": [
      "A column-vector y was passed when a 1d array was expected. Please change the shape of y to (n_samples,), for example using ravel().\n",
      "A column-vector y was passed when a 1d array was expected. Please change the shape of y to (n_samples,), for example using ravel().\n",
      "A column-vector y was passed when a 1d array was expected. Please change the shape of y to (n_samples,), for example using ravel().\n",
      "A column-vector y was passed when a 1d array was expected. Please change the shape of y to (n_samples,), for example using ravel().\n",
      "A column-vector y was passed when a 1d array was expected. Please change the shape of y to (n_samples,), for example using ravel().\n",
      "A column-vector y was passed when a 1d array was expected. Please change the shape of y to (n_samples,), for example using ravel().\n",
      "A column-vector y was passed when a 1d array was expected. Please change the shape of y to (n_samples,), for example using ravel().\n",
      "A column-vector y was passed when a 1d array was expected. Please change the shape of y to (n_samples,), for example using ravel().\n",
      "A column-vector y was passed when a 1d array was expected. Please change the shape of y to (n_samples,), for example using ravel().\n",
      "A column-vector y was passed when a 1d array was expected. Please change the shape of y to (n_samples,), for example using ravel().\n"
     ]
    },
    {
     "name": "stdout",
     "output_type": "stream",
     "text": [
      "[-0.10618639  0.83542117  0.83238231  0.88250767  0.7152114   0.73410801\n",
      "  0.90986288  0.50228696  0.45032746  0.8795325 ]\n",
      "0.663545396733709\n",
      "0.2974753861064494\n"
     ]
    }
   ],
   "source": [
    "results = cross_val_score(model, x_expl_2opcion, Qmax , cv=kfold, scoring='r2')\n",
    "print(results)\n",
    "print(results.mean())\n",
    "print(results.std())"
   ]
  }
 ],
 "metadata": {
  "kernelspec": {
   "display_name": "Python 3.10.6 ('inteligencia')",
   "language": "python",
   "name": "python3"
  },
  "language_info": {
   "codemirror_mode": {
    "name": "ipython",
    "version": 3
   },
   "file_extension": ".py",
   "mimetype": "text/x-python",
   "name": "python",
   "nbconvert_exporter": "python",
   "pygments_lexer": "ipython3",
   "version": "3.10.6"
  },
  "orig_nbformat": 4,
  "vscode": {
   "interpreter": {
    "hash": "9f8938179e6b64c1a93574ce02188609d40bf02b0bc92f273286a66031c0e41f"
   }
  }
 },
 "nbformat": 4,
 "nbformat_minor": 2
}
