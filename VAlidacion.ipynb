{
 "cells": [
  {
   "cell_type": "code",
   "execution_count": 8,
   "metadata": {},
   "outputs": [],
   "source": [
    "import pandas as pd\n",
    "import numpy as np\n",
    "import sklearn as sk\n",
    "import openpyxl\n",
    "import statsmodels.graphics.api as smg\n",
    "import matplotlib.pyplot as plt \n",
    "import seaborn as sns\n",
    "import shap\n",
    "from sklearn.ensemble import RandomForestRegressor\n",
    "from pandas.plotting import scatter_matrix\n",
    "from sklearn.feature_selection import VarianceThreshold\n",
    "from sklearn.feature_selection import SelectKBest\n",
    "from sklearn.feature_selection import mutual_info_regression\n",
    "from sklearn.model_selection import cross_val_score\n",
    "from sklearn.model_selection import KFold\n",
    "from sklearn.model_selection import train_test_split"
   ]
  },
  {
   "cell_type": "code",
   "execution_count": 6,
   "metadata": {},
   "outputs": [],
   "source": [
    "matriz_1_seleccionada_b = pd.read_excel('/home/erick_castro/Documentos/Inteligencia/matriz_1_seleccionada_b.xlsx', sheet_name = \"Sheet1\")\n",
    "Qmax = pd.read_excel('/home/erick_castro/Documentos/Inteligencia/Qmax.xlsx', sheet_name = \"Sheet1\")\n"
   ]
  },
  {
   "cell_type": "code",
   "execution_count": 10,
   "metadata": {},
   "outputs": [],
   "source": [
    "X_train,X_test, y_train,y_test = train_test_split(matriz_1_seleccionada_b ,Qmax, train_size=0.8, random_state=1)\n",
    "X2_train,X2_test, y2_train,y2_test = train_test_split(matriz_1_seleccionada_b ,Qmax, train_size=0.8, random_state=1)\n",
    "X3_train,X3_test, y3_train,y3_test = train_test_split(matriz_1_seleccionada_b ,Qmax, random_state=2)"
   ]
  },
  {
   "cell_type": "code",
   "execution_count": null,
   "metadata": {},
   "outputs": [],
   "source": []
  }
 ],
 "metadata": {
  "kernelspec": {
   "display_name": "Python 3.10.6 ('inteligencia')",
   "language": "python",
   "name": "python3"
  },
  "language_info": {
   "codemirror_mode": {
    "name": "ipython",
    "version": 3
   },
   "file_extension": ".py",
   "mimetype": "text/x-python",
   "name": "python",
   "nbconvert_exporter": "python",
   "pygments_lexer": "ipython3",
   "version": "3.10.6"
  },
  "orig_nbformat": 4,
  "vscode": {
   "interpreter": {
    "hash": "9f8938179e6b64c1a93574ce02188609d40bf02b0bc92f273286a66031c0e41f"
   }
  }
 },
 "nbformat": 4,
 "nbformat_minor": 2
}
