{
 "cells": [
  {
   "cell_type": "code",
   "execution_count": 23,
   "metadata": {},
   "outputs": [],
   "source": [
    "import pandas as pd\n",
    "import numpy as np\n",
    "import sklearn as sk\n",
    "import openpyxl\n",
    "import statsmodels.graphics.api as smg\n",
    "import matplotlib.pyplot as plt \n",
    "import seaborn as sns\n",
    "import shap\n",
    "from sklearn.ensemble import RandomForestRegressor\n",
    "from pandas.plotting import scatter_matrix\n",
    "from sklearn.feature_selection import VarianceThreshold\n",
    "from sklearn.feature_selection import SelectKBest\n",
    "from sklearn.feature_selection import mutual_info_regression\n",
    "from sklearn.model_selection import cross_val_score\n",
    "from sklearn.model_selection import KFold\n",
    "from sklearn.model_selection import train_test_split\n",
    "from sklearn.utils import class_weight\n",
    "from sklearn.linear_model import LinearRegression\n",
    "from sklearn.model_selection import cross_validate\n",
    "from sklearn.linear_model import Ridge\n",
    "from sklearn.model_selection import ShuffleSplit\n",
    "from sklearn.neighbors import KNeighborsRegressor\n",
    "from sklearn import svm"
   ]
  },
  {
   "cell_type": "code",
   "execution_count": 4,
   "metadata": {},
   "outputs": [],
   "source": [
    "datos = pd.read_excel('/home/erick_castro/Documentos/Inteligencia/Datos.xlsx', sheet_name = \"Hoja1\")\n",
    "datos = pd.DataFrame(datos)\n",
    "datos = datos.dropna(axis = 0, how =\"any\")\n",
    "x_expl_2opcion=datos.drop(['C1', 'Duración_(min)_pl', 'Intensidad_media pl',\n",
    "       'Intensidad_máxima_pl', 'Intensidad_continuap_pl',\n",
    "       'Duración_(min)_esta', 'Intensidad_media_est', 'Intensidad_máxima_est',\n",
    "       'Intensidad_continua_est', 'Lluvia antecedent_24 horas_pluv',\n",
    "       'Lluvia antecedent_24_horas_esta', 'Lluvia antecedent_48_horas_pluv', 'Trespuesta_(min)_plub',\n",
    "       'Trespuesta_est', 'Evento', 'Hs_5cm', 'Hs_40_cm', 'Hs_60', 'Hs_80', 'Hs_100', 'Qmax', 'Q_inicial'],axis=1)\n",
    "Qmax=datos[['Qmax']]"
   ]
  },
  {
   "cell_type": "code",
   "execution_count": 1,
   "metadata": {},
   "outputs": [
    {
     "ename": "NameError",
     "evalue": "name 'datos' is not defined",
     "output_type": "error",
     "traceback": [
      "\u001b[0;31m---------------------------------------------------------------------------\u001b[0m",
      "\u001b[0;31mNameError\u001b[0m                                 Traceback (most recent call last)",
      "Cell \u001b[0;32mIn [1], line 1\u001b[0m\n\u001b[0;32m----> 1\u001b[0m \u001b[43mdatos\u001b[49m\u001b[38;5;241m.\u001b[39mhead()\n",
      "\u001b[0;31mNameError\u001b[0m: name 'datos' is not defined"
     ]
    }
   ],
   "source": [
    "datos.head()"
   ]
  },
  {
   "cell_type": "code",
   "execution_count": 5,
   "metadata": {},
   "outputs": [],
   "source": [
    "X_train,X_test, y_train,y_test = train_test_split(x_expl_2opcion ,Qmax, train_size= 0.8, random_state=1)\n",
    "X2_train,X2_test, y2_train,y2_test = train_test_split(x_expl_2opcion ,Qmax, train_size=0.8, random_state=1)\n",
    "X3_train,X3_test, y3_train,y3_test = train_test_split(x_expl_2opcion ,Qmax, random_state=2)"
   ]
  },
  {
   "cell_type": "code",
   "execution_count": 6,
   "metadata": {},
   "outputs": [
    {
     "name": "stdout",
     "output_type": "stream",
     "text": [
      "Dimensiones de la matriz para entrenar: (172, 2)\n",
      "Dimensiones del vector para entrenar: (172, 1)\n",
      "Dimensiones de la matriz para validar: (43, 2)\n",
      "Dimensiones del vector para validar: (43, 1)\n"
     ]
    }
   ],
   "source": [
    "print('Dimensiones de la matriz para entrenar:',X_train.shape)\n",
    "print('Dimensiones del vector para entrenar:',y_train.shape)\n",
    "print('Dimensiones de la matriz para validar:',X_test.shape)\n",
    "print('Dimensiones del vector para validar:',y_test.shape)"
   ]
  },
  {
   "cell_type": "code",
   "execution_count": null,
   "metadata": {},
   "outputs": [],
   "source": []
  },
  {
   "cell_type": "code",
   "execution_count": 8,
   "metadata": {},
   "outputs": [
    {
     "name": "stderr",
     "output_type": "stream",
     "text": [
      "A column-vector y was passed when a 1d array was expected. Please change the shape of y to (n_samples,), for example using ravel().\n"
     ]
    },
    {
     "data": {
      "text/plain": [
       "0.8000546432583812"
      ]
     },
     "execution_count": 8,
     "metadata": {},
     "output_type": "execute_result"
    }
   ],
   "source": [
    "RandomForestRegressor().fit(X_train,y_train).score(X_test,y_test)"
   ]
  },
  {
   "cell_type": "code",
   "execution_count": 13,
   "metadata": {},
   "outputs": [
    {
     "name": "stderr",
     "output_type": "stream",
     "text": [
      "A column-vector y was passed when a 1d array was expected. Please change the shape of y to (n_samples,), for example using ravel().\n",
      "A column-vector y was passed when a 1d array was expected. Please change the shape of y to (n_samples,), for example using ravel().\n",
      "A column-vector y was passed when a 1d array was expected. Please change the shape of y to (n_samples,), for example using ravel().\n"
     ]
    },
    {
     "name": "stdout",
     "output_type": "stream",
     "text": [
      "[0.39607908 0.57544954 0.70909703 0.75179259 0.68637064]\n",
      "0.6237577743653386\n",
      "0.12788068418240664\n"
     ]
    },
    {
     "name": "stderr",
     "output_type": "stream",
     "text": [
      "A column-vector y was passed when a 1d array was expected. Please change the shape of y to (n_samples,), for example using ravel().\n",
      "A column-vector y was passed when a 1d array was expected. Please change the shape of y to (n_samples,), for example using ravel().\n"
     ]
    }
   ],
   "source": [
    "kfold = KFold(n_splits=5, shuffle= True,random_state=1)\n",
    "model = RandomForestRegressor()\n",
    "results = cross_val_score(model, X_train, y_train, cv=kfold, scoring='r2')\n",
    "print(results)\n",
    "print(results.mean())\n",
    "print(results.std())"
   ]
  },
  {
   "cell_type": "code",
   "execution_count": 14,
   "metadata": {},
   "outputs": [
    {
     "data": {
      "text/plain": [
       "{'fit_time': array([0.08183646, 0.00230837, 0.00206661, 0.00222039, 0.002321  ]),\n",
       " 'score_time': array([0.0015502 , 0.00177717, 0.00276375, 0.00252056, 0.00307536]),\n",
       " 'test_score': array([0.62484121, 0.3023446 , 0.62785107, 0.61198614, 0.68725811]),\n",
       " 'train_score': array([0.73409247, 0.71603517, 0.77431994, 0.73028399, 0.69839479])}"
      ]
     },
     "execution_count": 14,
     "metadata": {},
     "output_type": "execute_result"
    }
   ],
   "source": [
    "results_ridge = cross_validate(Ridge(),x_expl_2opcion ,Qmax,return_train_score=True,cv=5)\n",
    "results_ridge"
   ]
  },
  {
   "cell_type": "code",
   "execution_count": 16,
   "metadata": {},
   "outputs": [
    {
     "name": "stdout",
     "output_type": "stream",
     "text": [
      "Train scores: 0.7306252709018495\n",
      "Test scores: 0.5708562240708182\n"
     ]
    }
   ],
   "source": [
    "test_scores = results_ridge['test_score']\n",
    "train_scores = results_ridge['train_score']\n",
    "print('Train scores:', np.mean(train_scores))\n",
    "print('Test scores:', np.mean(test_scores))"
   ]
  },
  {
   "cell_type": "code",
   "execution_count": 24,
   "metadata": {},
   "outputs": [
    {
     "name": "stdout",
     "output_type": "stream",
     "text": [
      "[0.64486414 0.69528802 0.74547579 0.7158798  0.72650305 0.68657789\n",
      " 0.72090379 0.53999832 0.72552255 0.73764783 0.75702311 0.6761226\n",
      " 0.76275026 0.72827067 0.56171808 0.6021167  0.43867733 0.72449815\n",
      " 0.53674022 0.71340613]\n",
      "0.6719992212956496\n",
      "0.08708476893001862\n"
     ]
    }
   ],
   "source": [
    "kfold = ShuffleSplit(n_splits=20, test_size=0.3, random_state=1)\n",
    "model = KNeighborsRegressor()\n",
    "results = cross_val_score(model,x_expl_2opcion ,Qmax, cv=kfold, scoring='r2')\n",
    "print(results)\n",
    "print(results.mean())\n",
    "print(results.std())"
   ]
  }
 ],
 "metadata": {
  "kernelspec": {
   "display_name": "Python 3.10.6 ('inteligencia')",
   "language": "python",
   "name": "python3"
  },
  "language_info": {
   "codemirror_mode": {
    "name": "ipython",
    "version": 3
   },
   "file_extension": ".py",
   "mimetype": "text/x-python",
   "name": "python",
   "nbconvert_exporter": "python",
   "pygments_lexer": "ipython3",
   "version": "3.10.6"
  },
  "orig_nbformat": 4,
  "vscode": {
   "interpreter": {
    "hash": "9f8938179e6b64c1a93574ce02188609d40bf02b0bc92f273286a66031c0e41f"
   }
  }
 },
 "nbformat": 4,
 "nbformat_minor": 2
}
